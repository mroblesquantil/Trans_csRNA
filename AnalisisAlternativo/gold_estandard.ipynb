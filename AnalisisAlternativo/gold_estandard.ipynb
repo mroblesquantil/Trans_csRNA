{
 "cells": [
  {
   "cell_type": "markdown",
   "metadata": {},
   "source": [
    "# Librería"
   ]
  },
  {
   "cell_type": "code",
   "execution_count": 7,
   "metadata": {},
   "outputs": [],
   "source": [
    "import os \n",
    "import h5py\n",
    "import pickle\n",
    "import numpy as np\n",
    "import scanpy as sc \n",
    "import pandas as pd\n",
    "import seaborn as sns\n",
    "from tqdm import tqdm\n",
    "import scipy.sparse as sp\n",
    "from sklearn.cluster import KMeans\n",
    "from sklearn.decomposition import PCA\n",
    "import matplotlib.pyplot as plt\n",
    "import matplotlib.image as mpimg\n",
    "from matplotlib.gridspec import SubplotSpec\n",
    "from scipy.spatial.distance import euclidean\n",
    "from scipy.stats import pearsonr, spearmanr\n",
    "from sklearn.metrics import (calinski_harabasz_score, davies_bouldin_score,\n",
    "                             silhouette_score)"
   ]
  },
  {
   "cell_type": "code",
   "execution_count": 2,
   "metadata": {},
   "outputs": [],
   "source": [
    "from clustering import *"
   ]
  },
  {
   "cell_type": "code",
   "execution_count": 3,
   "metadata": {},
   "outputs": [],
   "source": [
    "import warnings\n",
    "warnings.filterwarnings('ignore')"
   ]
  },
  {
   "cell_type": "markdown",
   "metadata": {},
   "source": [
    "# Lectura de datos"
   ]
  },
  {
   "cell_type": "code",
   "execution_count": 4,
   "metadata": {},
   "outputs": [],
   "source": [
    "path = '../Tests-GMM/data/Small_Datasets/'"
   ]
  },
  {
   "cell_type": "code",
   "execution_count": 5,
   "metadata": {},
   "outputs": [],
   "source": [
    "data10x = h5py.File(path + '10X_PBMC_select_2100_top2000.h5')\n",
    "dataHumanLiver = h5py.File(path + 'HumanLiver_counts_top5000.h5')\n",
    "dataMacosko = h5py.File(path + 'Macosko_mouse_retina.h5')\n",
    "dataWorm = h5py.File(path + 'worm_neuron_cell.h5')\n",
    "dataBladder = h5py.File(path + 'mouse_bladder_cell.h5')\n",
    "\n",
    "data = {'10X_PBMC': data10x, 'HumanLiver': dataHumanLiver, 'Macosko': dataMacosko, \n",
    "        'WormNeuron': dataWorm, 'MouseBladder': dataBladder}"
   ]
  },
  {
   "cell_type": "code",
   "execution_count": 8,
   "metadata": {},
   "outputs": [],
   "source": [
    "adata_dict = {}\n",
    "for key, item in data.items():\n",
    "    x = np.array(item['X'])\n",
    "    y = np.array(item['Y'])\n",
    "\n",
    "    adata = sc.AnnData(x)\n",
    "    adata.obs['Group'] = y\n",
    "\n",
    "    adata_dict[key] = adata"
   ]
  },
  {
   "cell_type": "markdown",
   "metadata": {},
   "source": [
    "# Unsupervised metrics for golden standard"
   ]
  },
  {
   "cell_type": "code",
   "execution_count": 9,
   "metadata": {},
   "outputs": [
    {
     "name": "stdout",
     "output_type": "stream",
     "text": [
      "--> 10X_PBMC\n",
      "Métricas 10X_PBMC. SS=0.026757394894957542 DBS=3.494892713661765 CHS=182.99981352887886\n",
      "--> HumanLiver\n",
      "Métricas HumanLiver. SS=-0.20441852509975433 DBS=2.728328142761584 CHS=189.0437976385086\n",
      "--> Macosko\n",
      "Métricas Macosko. SS=-0.03480227664113045 DBS=5.125327003141166 CHS=124.14737425926458\n",
      "--> WormNeuron\n",
      "Métricas WormNeuron. SS=-0.07009139657020569 DBS=5.373284868452961 CHS=67.13651332297447\n",
      "--> MouseBladder\n",
      "Métricas MouseBladder. SS=-0.004832155536860228 DBS=2.5225669110173623 CHS=290.38715564071873\n"
     ]
    }
   ],
   "source": [
    "for key, adata in adata_dict.items():\n",
    "    print('-->', key)\n",
    "    X = adata.X\n",
    "    y = adata.obs.Group\n",
    "\n",
    "    ss = silhouette_score(X, y)\n",
    "    dbs = davies_bouldin_score (X, y)\n",
    "    chs = calinski_harabasz_score (X, y)\n",
    "\n",
    "    print(f'Métricas {key}. SS={ss} DBS={dbs} CHS={chs}')"
   ]
  },
  {
   "cell_type": "code",
   "execution_count": null,
   "metadata": {},
   "outputs": [],
   "source": []
  }
 ],
 "metadata": {
  "kernelspec": {
   "display_name": "env_scRNA",
   "language": "python",
   "name": "python3"
  },
  "language_info": {
   "codemirror_mode": {
    "name": "ipython",
    "version": 3
   },
   "file_extension": ".py",
   "mimetype": "text/x-python",
   "name": "python",
   "nbconvert_exporter": "python",
   "pygments_lexer": "ipython3",
   "version": "3.10.9"
  },
  "orig_nbformat": 4
 },
 "nbformat": 4,
 "nbformat_minor": 2
}
