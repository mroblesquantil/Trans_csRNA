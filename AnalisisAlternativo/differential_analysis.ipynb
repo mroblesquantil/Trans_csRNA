{
 "cells": [
  {
   "cell_type": "markdown",
   "metadata": {},
   "source": [
    "# Librerías"
   ]
  },
  {
   "cell_type": "code",
   "execution_count": 1,
   "metadata": {},
   "outputs": [],
   "source": [
    "import h5py\n",
    "import scanpy as sc\n",
    "import numpy as np\n",
    "import pandas as pd"
   ]
  },
  {
   "cell_type": "markdown",
   "metadata": {},
   "source": [
    "# Lectura de datos\n",
    "La prueba se realizará únicamente con el dataset de Human Liver.\n",
    "Se leen los datos crudos y se selecciona el 10% de células con mayor conteo. Esas células se dividen en dos grupos:\n",
    "- Grupo 1: Pertenece al cluster más grande (cluster número 7)\n",
    "- Grupo 2: Pertenece a cualquier otro cluster"
   ]
  },
  {
   "cell_type": "code",
   "execution_count": 2,
   "metadata": {},
   "outputs": [],
   "source": [
    "dataLiver = h5py.File('../Tests-GMM/data/Small_Datasets/' + 'HumanLiver_counts_top5000.h5')\n",
    "x = np.array(dataLiver['X'])\n",
    "y = np.array(dataLiver['Y'])\n",
    "\n",
    "adata = sc.AnnData(x)\n",
    "adata.obs['Group'] = y"
   ]
  },
  {
   "cell_type": "code",
   "execution_count": 3,
   "metadata": {},
   "outputs": [],
   "source": [
    "sc.pp.calculate_qc_metrics(adata, inplace=True)"
   ]
  },
  {
   "cell_type": "code",
   "execution_count": 4,
   "metadata": {},
   "outputs": [],
   "source": [
    "quantile = pd.qcut(adata.obs['total_counts'], 10, labels = False) \n",
    "adata = adata[quantile == 9]"
   ]
  },
  {
   "cell_type": "code",
   "execution_count": 5,
   "metadata": {},
   "outputs": [
    {
     "name": "stderr",
     "output_type": "stream",
     "text": [
      "C:\\Users\\melir\\AppData\\Local\\Temp\\ipykernel_21172\\289915785.py:1: ImplicitModificationWarning: Trying to modify attribute `.obs` of view, initializing view as actual.\n",
      "  adata.obs['Group2'] = (adata.obs.Group == 7.0)\n"
     ]
    }
   ],
   "source": [
    "adata.obs['Group2'] = (adata.obs.Group == 7.0)"
   ]
  },
  {
   "cell_type": "code",
   "execution_count": 6,
   "metadata": {},
   "outputs": [],
   "source": [
    "pd.DataFrame(adata.X).to_csv('mejor_representadas_human_liver.csv', index = None)"
   ]
  },
  {
   "cell_type": "code",
   "execution_count": 7,
   "metadata": {},
   "outputs": [],
   "source": [
    "pd.DataFrame(adata.obs).to_csv('sample_info.csv', index = None)"
   ]
  },
  {
   "cell_type": "markdown",
   "metadata": {},
   "source": [
    "# Resultado Deseq2\n",
    "\n",
    "Se seleccionaron los genes que cumplían con las dos condiciones\n",
    "- p-value menor a 0.05\n",
    "- LFC mayor a 1 en valor absoluto "
   ]
  },
  {
   "cell_type": "code",
   "execution_count": 8,
   "metadata": {},
   "outputs": [
    {
     "data": {
      "text/plain": [
       "<KeysViewHDF5 ['X', 'Y', 'top_2000_indx']>"
      ]
     },
     "execution_count": 8,
     "metadata": {},
     "output_type": "execute_result"
    }
   ],
   "source": [
    "dataLiver.keys()"
   ]
  },
  {
   "cell_type": "code",
   "execution_count": 9,
   "metadata": {},
   "outputs": [
    {
     "data": {
      "text/plain": [
       "(832, 7)"
      ]
     },
     "execution_count": 9,
     "metadata": {},
     "output_type": "execute_result"
    }
   ],
   "source": [
    "expressed_genes = pd.read_csv('data_deseq/differentially_expressed_genes.csv')\n",
    "expressed_genes.rename(columns = {'Unnamed: 0': 'gene'}, inplace = True)\n",
    "expressed_genes['gene'] = expressed_genes['gene'].apply(lambda x: int(x[1:])) \n",
    "expressed_genes.shape"
   ]
  },
  {
   "cell_type": "code",
   "execution_count": 10,
   "metadata": {},
   "outputs": [],
   "source": [
    "expressed_genes = expressed_genes[expressed_genes.padj < 0.05]"
   ]
  },
  {
   "cell_type": "code",
   "execution_count": 11,
   "metadata": {},
   "outputs": [
    {
     "data": {
      "text/plain": [
       "(831, 7)"
      ]
     },
     "execution_count": 11,
     "metadata": {},
     "output_type": "execute_result"
    }
   ],
   "source": [
    "expressed_genes.shape"
   ]
  },
  {
   "cell_type": "code",
   "execution_count": 12,
   "metadata": {},
   "outputs": [
    {
     "data": {
      "text/html": [
       "<div>\n",
       "<style scoped>\n",
       "    .dataframe tbody tr th:only-of-type {\n",
       "        vertical-align: middle;\n",
       "    }\n",
       "\n",
       "    .dataframe tbody tr th {\n",
       "        vertical-align: top;\n",
       "    }\n",
       "\n",
       "    .dataframe thead th {\n",
       "        text-align: right;\n",
       "    }\n",
       "</style>\n",
       "<table border=\"1\" class=\"dataframe\">\n",
       "  <thead>\n",
       "    <tr style=\"text-align: right;\">\n",
       "      <th></th>\n",
       "      <th>gene</th>\n",
       "      <th>baseMean</th>\n",
       "      <th>log2FoldChange</th>\n",
       "      <th>lfcSE</th>\n",
       "      <th>stat</th>\n",
       "      <th>pvalue</th>\n",
       "      <th>padj</th>\n",
       "    </tr>\n",
       "  </thead>\n",
       "  <tbody>\n",
       "    <tr>\n",
       "      <th>0</th>\n",
       "      <td>26</td>\n",
       "      <td>2.651295</td>\n",
       "      <td>-3.249906</td>\n",
       "      <td>0.146490</td>\n",
       "      <td>-22.185166</td>\n",
       "      <td>4.776620e-109</td>\n",
       "      <td>1.166860e-107</td>\n",
       "    </tr>\n",
       "    <tr>\n",
       "      <th>1</th>\n",
       "      <td>38</td>\n",
       "      <td>3.663920</td>\n",
       "      <td>-4.123774</td>\n",
       "      <td>0.133181</td>\n",
       "      <td>-30.963795</td>\n",
       "      <td>1.656849e-210</td>\n",
       "      <td>9.941094e-209</td>\n",
       "    </tr>\n",
       "    <tr>\n",
       "      <th>2</th>\n",
       "      <td>39</td>\n",
       "      <td>1.875427</td>\n",
       "      <td>4.190936</td>\n",
       "      <td>0.213160</td>\n",
       "      <td>19.661030</td>\n",
       "      <td>4.651829e-86</td>\n",
       "      <td>8.887853e-85</td>\n",
       "    </tr>\n",
       "    <tr>\n",
       "      <th>3</th>\n",
       "      <td>67</td>\n",
       "      <td>1.295050</td>\n",
       "      <td>2.896206</td>\n",
       "      <td>0.182147</td>\n",
       "      <td>15.900350</td>\n",
       "      <td>6.301136e-57</td>\n",
       "      <td>8.831920e-56</td>\n",
       "    </tr>\n",
       "    <tr>\n",
       "      <th>4</th>\n",
       "      <td>70</td>\n",
       "      <td>0.349575</td>\n",
       "      <td>2.212793</td>\n",
       "      <td>0.288031</td>\n",
       "      <td>7.682482</td>\n",
       "      <td>1.560360e-14</td>\n",
       "      <td>6.604492e-14</td>\n",
       "    </tr>\n",
       "    <tr>\n",
       "      <th>...</th>\n",
       "      <td>...</td>\n",
       "      <td>...</td>\n",
       "      <td>...</td>\n",
       "      <td>...</td>\n",
       "      <td>...</td>\n",
       "      <td>...</td>\n",
       "      <td>...</td>\n",
       "    </tr>\n",
       "    <tr>\n",
       "      <th>827</th>\n",
       "      <td>4977</td>\n",
       "      <td>0.214187</td>\n",
       "      <td>2.500875</td>\n",
       "      <td>1.180176</td>\n",
       "      <td>2.119069</td>\n",
       "      <td>3.408460e-02</td>\n",
       "      <td>4.769612e-02</td>\n",
       "    </tr>\n",
       "    <tr>\n",
       "      <th>828</th>\n",
       "      <td>4984</td>\n",
       "      <td>0.694997</td>\n",
       "      <td>2.319342</td>\n",
       "      <td>0.198726</td>\n",
       "      <td>11.671064</td>\n",
       "      <td>1.791688e-31</td>\n",
       "      <td>1.567154e-30</td>\n",
       "    </tr>\n",
       "    <tr>\n",
       "      <th>829</th>\n",
       "      <td>4988</td>\n",
       "      <td>0.170798</td>\n",
       "      <td>2.061339</td>\n",
       "      <td>0.469957</td>\n",
       "      <td>4.386225</td>\n",
       "      <td>1.153348e-05</td>\n",
       "      <td>2.463742e-05</td>\n",
       "    </tr>\n",
       "    <tr>\n",
       "      <th>830</th>\n",
       "      <td>4990</td>\n",
       "      <td>2.012171</td>\n",
       "      <td>-2.665099</td>\n",
       "      <td>0.152485</td>\n",
       "      <td>-17.477812</td>\n",
       "      <td>2.114574e-68</td>\n",
       "      <td>3.363648e-67</td>\n",
       "    </tr>\n",
       "    <tr>\n",
       "      <th>831</th>\n",
       "      <td>4993</td>\n",
       "      <td>2.347786</td>\n",
       "      <td>-2.725918</td>\n",
       "      <td>0.157604</td>\n",
       "      <td>-17.296003</td>\n",
       "      <td>5.041738e-67</td>\n",
       "      <td>7.909516e-66</td>\n",
       "    </tr>\n",
       "  </tbody>\n",
       "</table>\n",
       "<p>831 rows × 7 columns</p>\n",
       "</div>"
      ],
      "text/plain": [
       "     gene  baseMean  log2FoldChange     lfcSE       stat         pvalue  \\\n",
       "0      26  2.651295       -3.249906  0.146490 -22.185166  4.776620e-109   \n",
       "1      38  3.663920       -4.123774  0.133181 -30.963795  1.656849e-210   \n",
       "2      39  1.875427        4.190936  0.213160  19.661030   4.651829e-86   \n",
       "3      67  1.295050        2.896206  0.182147  15.900350   6.301136e-57   \n",
       "4      70  0.349575        2.212793  0.288031   7.682482   1.560360e-14   \n",
       "..    ...       ...             ...       ...        ...            ...   \n",
       "827  4977  0.214187        2.500875  1.180176   2.119069   3.408460e-02   \n",
       "828  4984  0.694997        2.319342  0.198726  11.671064   1.791688e-31   \n",
       "829  4988  0.170798        2.061339  0.469957   4.386225   1.153348e-05   \n",
       "830  4990  2.012171       -2.665099  0.152485 -17.477812   2.114574e-68   \n",
       "831  4993  2.347786       -2.725918  0.157604 -17.296003   5.041738e-67   \n",
       "\n",
       "              padj  \n",
       "0    1.166860e-107  \n",
       "1    9.941094e-209  \n",
       "2     8.887853e-85  \n",
       "3     8.831920e-56  \n",
       "4     6.604492e-14  \n",
       "..             ...  \n",
       "827   4.769612e-02  \n",
       "828   1.567154e-30  \n",
       "829   2.463742e-05  \n",
       "830   3.363648e-67  \n",
       "831   7.909516e-66  \n",
       "\n",
       "[831 rows x 7 columns]"
      ]
     },
     "execution_count": 12,
     "metadata": {},
     "output_type": "execute_result"
    }
   ],
   "source": [
    "expressed_genes"
   ]
  },
  {
   "cell_type": "markdown",
   "metadata": {},
   "source": [
    "# Lectura datos paper"
   ]
  },
  {
   "cell_type": "code",
   "execution_count": 13,
   "metadata": {},
   "outputs": [],
   "source": [
    "d = h5py.File('data_deseq/HumanLiver_counts_top5000.h5')"
   ]
  },
  {
   "cell_type": "code",
   "execution_count": 14,
   "metadata": {},
   "outputs": [],
   "source": [
    "genes = np.array(d['gene_name'])"
   ]
  },
  {
   "cell_type": "code",
   "execution_count": 15,
   "metadata": {},
   "outputs": [],
   "source": [
    "expressed_genes = genes[expressed_genes.gene]"
   ]
  },
  {
   "cell_type": "code",
   "execution_count": 16,
   "metadata": {},
   "outputs": [
    {
     "data": {
      "text/plain": [
       "array([b'ERRFI1', b'MASP2', b'SRM', b'DDOST', b'USP48', b'HSPG2', b'C1QA',\n",
       "       b'C1QC', b'C1QB', b'TCEA3', b'ID3', b'PNRC2', b'RHCE', b'STMN1',\n",
       "       b'CD52', b'HMGN2', b'FCN3', b'LAPTM5', b'FAM167B', b'MARCKSL1',\n",
       "       b'YBX1', b'SLC2A1', b'CDC20', b'NASP', b'TXNDC12', b'GPX7', b'JUN',\n",
       "       b'ANGPTL3', b'RP11-386I14.4', b'CD53', b'FAM46C', b'RP11-403I13.5',\n",
       "       b'CH17-373J23.1', b'ANP32E', b'CTSS', b'TCHH', b'S100A4',\n",
       "       b'S100A16', b'NPR1', b'RAB25', b'PMF1', b'FCRL2', b'CRP', b'FCRL6',\n",
       "       b'LINC01133', b'SLAMF7', b'LY9', b'ADAMTS4', b'NR1I3', b'FCRLA',\n",
       "       b'MPC2', b'DNM3', b'CACYBP', b'MRPS14', b'QSOX1', b'RGL1', b'TPR',\n",
       "       b'RGS13', b'UCHL5', b'CFHR3', b'CFHR1', b'CFHR4', b'CRB1',\n",
       "       b'LMOD1', b'ADIPOR1', b'CHI3L1', b'FMOD', b'GOLT1A', b'RAB7B',\n",
       "       b'C4BPA', b'CD55', b'TRAF3IP3', b'LINC00467', b'PTPN14', b'TGFB2',\n",
       "       b'IARS2', b'DEGS1', b'LEFTY1', b'GJC2', b'FAM89A', b'SH3YL1',\n",
       "       b'C2orf48', b'PDIA6', b'TMEM214', b'PREB', b'SLC5A6', b'NRBP1',\n",
       "       b'LBH', b'SLC3A1', b'ERLEC1', b'EML6', b'EFEMP1', b'EGR4',\n",
       "       b'WDR54', b'TCF7L1', b'CHMP3', b'RP11-1399P15.1', b'RPIA',\n",
       "       b'IGKV1-12', b'IGKV1-8', b'IGKV1-5', b'IGKV6-21', b'STARD7',\n",
       "       b'MIR4435-2HG', b'MERTK', b'STEAP3', b'BIN1', b'MYO7B', b'KYNU',\n",
       "       b'UPP2', b'CDCA7', b'CHRNA1', b'TFPI', b'HIBCH', b'STAT4',\n",
       "       b'NABP1', b'AC098617.1', b'RP11-347P5.1', b'TRAK2', b'PECR',\n",
       "       b'IGFBP5', b'WNT6', b'DES', b'C2orf72', b'EIF4E2', b'ARL4C',\n",
       "       b'ACKR3', b'PASK', b'BOK', b'NEU4', b'ANKRD28', b'GALNT15',\n",
       "       b'CRTAP', b'QARS', b'GMPPB', b'FAM212A', b'TEX264', b'TWF2',\n",
       "       b'GNL3', b'SPCS1', b'ACOX2', b'TMEM45A', b'NXPE3', b'NFKBIZ',\n",
       "       b'LINC01215', b'GOLGB1', b'CD86', b'PLXND1', b'CLSTN2',\n",
       "       b'RP11-372E1.4', b'PLOD2', b'TM4SF18', b'TM4SF1-AS1', b'WWTR1',\n",
       "       b'SIAH2', b'PTX3', b'TRIM59', b'MECOM', b'SLC2A2', b'TNFSF10',\n",
       "       b'AHSG', b'FETUB', b'RFC4', b'APOD', b'TACC3', b'MXD4', b'FGFBP2',\n",
       "       b'LAP3', b'SMIM20', b'RFC1', b'NMU', b'STAP1', b'UGT2B28',\n",
       "       b'SULT1E1', b'GRSF1', b'SLC4A4', b'ALB', b'AFP', b'RP11-576N17.5',\n",
       "       b'SPP1', b'MMRN1', b'ADH1A', b'ADH1C', b'H2AFZ', b'EMCN',\n",
       "       b'ELOVL6', b'NDST3', b'ANXA5', b'CCNA2', b'FGF2', b'GYPA',\n",
       "       b'HHIP-AS1', b'RP11-768B22.2', b'FGA', b'FGG', b'GUCY1A3',\n",
       "       b'FAM198B', b'CPE', b'SAP30', b'GPM6A', b'VEGFC', b'CENPU',\n",
       "       b'MRPL36', b'CDH6', b'NPR3', b'OSMR', b'DAB2', b'MROH2B',\n",
       "       b'PLCXD3', b'CCL28', b'EMB', b'CENPH', b'F2RL1', b'BHMT',\n",
       "       b'SERINC5', b'POLR3G', b'RFESD', b'SPATA9', b'LOX', b'TCF7',\n",
       "       b'PITX1', b'CXCL14', b'TMEM173', b'C5orf46', b'NDST1', b'SPARC',\n",
       "       b'TTC1', b'ATP10B', b'RARS', b'STK10', b'PDLIM7', b'HNRNPAB',\n",
       "       b'GFPT2', b'FOXC1', b'EEF1E1', b'NEDD9', b'MCUR1', b'FAM8A1',\n",
       "       b'DCDC2', b'HIST1H2BC', b'HIST1H2AE', b'BTN1A1', b'ABCF1', b'NRM',\n",
       "       b'FLOT1', b'TNF', b'APOM', b'C6orf25', b'LSM2', b'HSPA1A',\n",
       "       b'SLC44A4', b'CFB', b'NELFE', b'NOTCH4', b'HLA-DRB5', b'HLA-DRB1',\n",
       "       b'HLA-DQA1', b'HLA-DQB1', b'HLA-DQA2', b'TAP1', b'HLA-DMB',\n",
       "       b'HLA-DOA', b'HLA-DPB1', b'SLC39A7', b'HMGA1', b'NUDT3', b'PI16',\n",
       "       b'DAAM2', b'MEA1', b'CRISP3', b'GCLC', b'SH3BGRL2', b'MANEA-AS1',\n",
       "       b'BVES', b'RP1-60O19.1', b'HDAC2', b'RSPO3', b'ENPP1', b'STX7',\n",
       "       b'ADGRG6', b'TAGAP', b'MRPL18', b'MPC1', b'CCR6', b'SNX8', b'LFNG',\n",
       "       b'COL28A1', b'ICA1', b'AGMO', b'SNX10', b'HOXA1', b'INMT', b'AQP1',\n",
       "       b'KBTBD2', b'AEBP1', b'MYO1G', b'IGFBP1', b'IGFBP3', b'DDC',\n",
       "       b'GBAS', b'ABHD11', b'TMEM120A', b'HGF', b'TP53TG1', b'STEAP4',\n",
       "       b'COL1A2', b'PON3', b'PON2', b'PDAP1', b'CYP3A5',\n",
       "       b'CYP3A7-CYP3A51P', b'AZGP1', b'ZKSCAN1', b'STAG3', b'POP7',\n",
       "       b'RASA4', b'SYPL1', b'WNT2', b'AASS', b'IMPDH1', b'FLNC',\n",
       "       b'AKR1B10', b'CALD1', b'CLEC5A', b'EPHB6', b'GIMAP6', b'TMEM176A',\n",
       "       b'KCNH2', b'DNAJB6', b'RBBP7', b'RPGR', b'MID1IP1', b'TIMP1',\n",
       "       b'EBP', b'WAS', b'GATA1', b'PRAF2', b'SYP', b'ALAS2', b'PAGE2B',\n",
       "       b'RP6-159A1.4', b'KIF4A', b'CXCR3', b'HMGN5', b'ARMCX6', b'RNF128',\n",
       "       b'RHOXF1-AS1', b'AIFM1', b'L1CAM', b'ATP6AP1', b'F8', b'CLIC2',\n",
       "       b'DEFA4', b'ASAH1', b'SORBS3', b'STC1', b'DPYSL2', b'DUSP4',\n",
       "       b'WHSC1L1', b'FGFR1', b'IDO1', b'MCM4', b'LACTB2', b'CRISPLD1',\n",
       "       b'PAG1', b'FABP4', b'CA3', b'WWP1', b'KB-1980E6.3', b'ANGPT1',\n",
       "       b'TRPS1', b'FAM83A-AS1', b'ARC', b'HSF1', b'RECQL4', b'GLDC',\n",
       "       b'RP11-62F24.2', b'PRSS3', b'CNTFR', b'ANXA1', b'TRPM6', b'RASEF',\n",
       "       b'SYK', b'CENPP', b'ANP32B', b'NANS', b'TRIM14', b'SLC44A1',\n",
       "       b'CTNNAL1', b'TMEM245', b'DNAJC25', b'KIF12', b'ORM2', b'AKNA',\n",
       "       b'RAB14', b'NDUFA8', b'AK1', b'DPM2', b'SLC25A25', b'AIF1L',\n",
       "       b'FCN1', b'FAM69B', b'LCN6', b'PTGDS', b'SAPCD2', b'IGF2',\n",
       "       b'KCNQ1OT1', b'HBD', b'HBG2', b'ILK', b'SAA2-SAA4', b'SAA1',\n",
       "       b'E2F8', b'FJX1', b'CD82', b'SLC43A3', b'YPEL4', b'FAM111B',\n",
       "       b'MS4A4A', b'MS4A1', b'FADS2', b'HRASLS2', b'RP11-783K16.14',\n",
       "       b'VEGFB', b'ARL2', b'EHBP1L1', b'CST6', b'NUDT8', b'P4HA3',\n",
       "       b'ARRB1', b'FZD4', b'NAALAD2', b'MMP7', b'GUCY1A2', b'ATM',\n",
       "       b'LAYN', b'REXO2', b'APOA4', b'APOA1', b'PAFAH1B2', b'PCSK7',\n",
       "       b'CD3G', b'CXCR5', b'H2AFX', b'PDZD3', b'CLMP', b'ST3GAL4',\n",
       "       b'FLI1', b'AKR1C1', b'AKR1C4', b'NET1', b'GATA3', b'ST8SIA6',\n",
       "       b'APBB1IP', b'DKK1', b'BICC1', b'TMEM26', b'RTKN2', b'HNRNPH3',\n",
       "       b'SPOCK2', b'OIT3', b'CHCHD1', b'DYDC2', b'FAM35A', b'PCGF5',\n",
       "       b'RP11-76P2.4', b'CYP2C8', b'PDLIM1', b'TCTN3', b'BLNK', b'MRPL43',\n",
       "       b'MXI1', b'SMC3', b'BAG3', b'CPXM2', b'GLRX3', b'CYP2E1',\n",
       "       b'RP11-598F7.3', b'FGF23', b'CD9', b'TAPBPL', b'NCAPD2',\n",
       "       b'U47924.27', b'CD163', b'SLC2A3', b'KLRG1', b'PZP', b'CLEC2D',\n",
       "       b'CLECL1', b'CLEC12A', b'LOH12CR2', b'STRAP', b'SLCO1B3', b'ABCC9',\n",
       "       b'SSPN', b'PPFIBP1', b'TMTC1', b'SLC38A4', b'AMIGO2', b'FKBP11',\n",
       "       b'TUBA1B', b'TUBA1A', b'TUBA1C', b'RACGAP1', b'ACVRL1', b'KRT7',\n",
       "       b'TNS2', b'C12orf10', b'SPRYD4', b'GPR182', b'DDIT3',\n",
       "       b'RP11-1143G9.4', b'RP11-588G21.2', b'PTPRR', b'LUM', b'UBE2N',\n",
       "       b'IKBIP', b'SLC17A8', b'ASCL1', b'TDG', b'NUAK1', b'TMEM263',\n",
       "       b'MYL2', b'SDSL', b'NOS1', b'SUDS3', b'RNF10', b'POP5', b'RHOF',\n",
       "       b'KMT5A', b'NOC4L', b'RGCC', b'TNFSF11', b'RB1', b'INTS6',\n",
       "       b'HNRNPA1L2', b'BORA', b'PROZ', b'TMEM255B', b'UPF3A', b'RNASE6',\n",
       "       b'RNASE1', b'RNASE2', b'SLC7A7', b'RP11-298I3.1', b'SLC25A21',\n",
       "       b'GCH1', b'DLGAP5', b'MAX', b'JDP2', b'AHSA1', b'IFI27',\n",
       "       b'IFI27L2', b'SERPINA6', b'SERPINA1', b'SERPINA11', b'SERPINA4',\n",
       "       b'SERPINA5', b'DICER1', b'GLRX5', b'TCL1A', b'MEG3', b'CKB',\n",
       "       b'CRIP1', b'AL928654.7', b'IGHG4', b'IGHG2', b'IGHGP',\n",
       "       b'AL928768.3', b'IGHA1', b'IGHG1', b'IGHG3', b'IGHD', b'KIAA0125',\n",
       "       b'IGHV6-1', b'PWAR6', b'KLF13', b'SPRED1', b'RP11-532F12.5',\n",
       "       b'ITPKA', b'CCNDBP1', b'CKMT1A', b'FBN1', b'GABPB1', b'FAM63B',\n",
       "       b'GTF2A2', b'RORA', b'KIAA0101', b'OAZ2', b'LOXL1', b'BCL2A1',\n",
       "       b'FANCI', b'MCTP2', b'IGF1R', b'HBA2', b'HBA1', b'HBQ1', b'MRPL28',\n",
       "       b'NPW', b'CCNF', b'GSPT1', b'PLA2G10', b'IGSF6', b'ERN2', b'RBBP6',\n",
       "       b'SULT1A2', b'C16orf54', b'YPEL3', b'MAPK3', b'SEPT1', b'DCTPP1',\n",
       "       b'ITGAM', b'RP11-19N8.4', b'VPS35', b'AMFR', b'MT1M', b'MT1A',\n",
       "       b'MT1B', b'MT1G', b'MT1H', b'MT1X', b'HERPUD1', b'CETP', b'TPPP3',\n",
       "       b'LCAT', b'DPEP3', b'HPR', b'GLG1', b'CRISPLD2', b'GINS2', b'MVD',\n",
       "       b'HIC1', b'ITGAE', b'ATP2A3', b'ALOX15', b'VMO1', b'BCL6B',\n",
       "       b'ASGR1', b'GABARAP', b'TNFSF12', b'ARHGEF15', b'PMP22',\n",
       "       b'AC104024.1', b'RASD1', b'LGALS9', b'SLC13A2', b'CPD', b'EVI2A',\n",
       "       b'CCL14', b'CCL23', b'CCL4', b'CCL3L3', b'TNS4', b'PSMC3IP',\n",
       "       b'TUBG2', b'RAMP2', b'AOC3', b'RUNDC3A-AS1', b'GRN', b'ITGA2B',\n",
       "       b'RP11-63A1.1', b'ITGB3', b'COL1A1', b'ABCC3', b'CCDC47', b'SCN4A',\n",
       "       b'ERN1', b'APOH', b'PITPNC1', b'WIPI1', b'ABCA6', b'MRPS7',\n",
       "       b'CASKIN2', b'SPHK1', b'SEC14L1', b'SEPT9', b'C17orf99', b'TK1',\n",
       "       b'AFMID', b'AC061992.2', b'TIMP2', b'LGALS3BP', b'GCGR', b'DCXR',\n",
       "       b'RP13-650J16.1', b'SECTM1', b'NARF', b'METRNL', b'NDC80',\n",
       "       b'LPIN2', b'ROCK1', b'GATA6', b'MYO5B', b'TXNL1', b'NARS',\n",
       "       b'CCBE1', b'FAM69C', b'SIRPG', b'NOP56', b'IDH3B', b'LINC01433',\n",
       "       b'BMP2', b'TMX4', b'FOXA2', b'BCL2L1', b'E2F1', b'PROCR', b'CPNE1',\n",
       "       b'MYL9', b'SRC', b'FAM83D', b'TOX2', b'PI3', b'SDC4', b'PIGT',\n",
       "       b'CTSA', b'PCK1', b'ZBP1', b'PMEPA1', b'RNF126', b'FSTL3', b'CNN2',\n",
       "       b'HMHA1', b'DAZAP1', b'LSM7', b'TMPRSS9', b'CTC-265F19.3',\n",
       "       b'SMIM24', b'CREB3L3', b'MYDGF', b'UHRF1', b'SH2D3A', b'NDUFA7',\n",
       "       b'MRPL4', b'C19orf38', b'CTC-499B15.5', b'PRDX2', b'GCDH',\n",
       "       b'TRMT1', b'CTD-3252C9.4', b'DDX39A', b'PKN1', b'CYP4F2', b'RAB8A',\n",
       "       b'KLF2', b'SMIM7', b'RFXANK', b'SCN1B', b'FXYD3', b'FXYD5', b'LSR',\n",
       "       b'MAG', b'APLP1', b'TBCB', b'SPINT2', b'PPP1R14A', b'C19orf33',\n",
       "       b'KCNK6', b'MAP4K1', b'FCGBP', b'SERTAD1', b'CYP2A7', b'CYP2B6',\n",
       "       b'AXL', b'TGFB1', b'TMEM91', b'LINC01480', b'ARHGEF1', b'PAFAH1B3',\n",
       "       b'APOE', b'APOC4-APOC2', b'APOC2', b'RELB', b'PPM1N', b'GPR4',\n",
       "       b'PTGIR', b'SLC1A5', b'SAE1', b'CYTH2', b'FTL', b'PIH1D1', b'PNKP',\n",
       "       b'KLK11', b'NKG7', b'SIGLEC10', b'KIR2DL3', b'SHISA7', b'TRIM28',\n",
       "       b'AC010084.1', b'CECR1', b'SLC25A18', b'CDC45', b'TBX1', b'PPM1F',\n",
       "       b'IGLV10-54', b'IGLV3-19', b'IGLL5', b'IGLC2', b'IGLC3', b'IGLC6',\n",
       "       b'BCR', b'DERL3', b'DDT', b'SUSD2', b'CTA-292E10.6', b'KREMEN1',\n",
       "       b'SMTN', b'PIK3IP1', b'SYN3', b'MB', b'CSF2RB', b'TMPRSS6',\n",
       "       b'CYTH4', b'CDC42EP1', b'APOBEC3G', b'APOBEC3H', b'TNFRSF13C',\n",
       "       b'NAGA', b'RRP7A', b'A4GALT', b'PARVG', b'LL22NC03-75H12.2',\n",
       "       b'PIM3', b'SELO', b'MAP3K7CL', b'IL10RB', b'TFF2', b'C21orf33',\n",
       "       b'FAM207A', b'COL6A1', b'LSS'], dtype='|S19')"
      ]
     },
     "execution_count": 16,
     "metadata": {},
     "output_type": "execute_result"
    }
   ],
   "source": [
    "expressed_genes"
   ]
  },
  {
   "cell_type": "code",
   "execution_count": null,
   "metadata": {},
   "outputs": [],
   "source": []
  },
  {
   "cell_type": "markdown",
   "metadata": {},
   "source": [
    "# Resultados Deseq2 - ajustes Single Cell"
   ]
  },
  {
   "cell_type": "code",
   "execution_count": 20,
   "metadata": {},
   "outputs": [
    {
     "data": {
      "text/plain": [
       "(2351, 7)"
      ]
     },
     "execution_count": 20,
     "metadata": {},
     "output_type": "execute_result"
    }
   ],
   "source": [
    "expressed_genes = pd.read_csv('data_deseq/differentially_expressed_genes_sc.csv')\n",
    "expressed_genes.rename(columns = {'Unnamed: 0': 'gene'}, inplace = True)\n",
    "expressed_genes['gene'] = expressed_genes['gene'].apply(lambda x: int(x[1:])) \n",
    "expressed_genes.shape"
   ]
  },
  {
   "cell_type": "code",
   "execution_count": 21,
   "metadata": {},
   "outputs": [],
   "source": [
    "expressed_genes = expressed_genes[expressed_genes.padj < 0.05]"
   ]
  },
  {
   "cell_type": "code",
   "execution_count": 22,
   "metadata": {},
   "outputs": [
    {
     "data": {
      "text/html": [
       "<div>\n",
       "<style scoped>\n",
       "    .dataframe tbody tr th:only-of-type {\n",
       "        vertical-align: middle;\n",
       "    }\n",
       "\n",
       "    .dataframe tbody tr th {\n",
       "        vertical-align: top;\n",
       "    }\n",
       "\n",
       "    .dataframe thead th {\n",
       "        text-align: right;\n",
       "    }\n",
       "</style>\n",
       "<table border=\"1\" class=\"dataframe\">\n",
       "  <thead>\n",
       "    <tr style=\"text-align: right;\">\n",
       "      <th></th>\n",
       "      <th>gene</th>\n",
       "      <th>baseMean</th>\n",
       "      <th>log2FoldChange</th>\n",
       "      <th>lfcSE</th>\n",
       "      <th>stat</th>\n",
       "      <th>pvalue</th>\n",
       "      <th>padj</th>\n",
       "    </tr>\n",
       "  </thead>\n",
       "  <tbody>\n",
       "    <tr>\n",
       "      <th>0</th>\n",
       "      <td>1</td>\n",
       "      <td>0.018163</td>\n",
       "      <td>5.042741</td>\n",
       "      <td>1.539113</td>\n",
       "      <td>23.447824</td>\n",
       "      <td>1.283478e-06</td>\n",
       "      <td>2.005860e-06</td>\n",
       "    </tr>\n",
       "    <tr>\n",
       "      <th>1</th>\n",
       "      <td>3</td>\n",
       "      <td>0.051592</td>\n",
       "      <td>18.278707</td>\n",
       "      <td>56.835503</td>\n",
       "      <td>41.162409</td>\n",
       "      <td>1.400911e-10</td>\n",
       "      <td>2.821639e-10</td>\n",
       "    </tr>\n",
       "    <tr>\n",
       "      <th>2</th>\n",
       "      <td>4</td>\n",
       "      <td>0.035982</td>\n",
       "      <td>4.806984</td>\n",
       "      <td>1.130483</td>\n",
       "      <td>31.574152</td>\n",
       "      <td>1.919679e-08</td>\n",
       "      <td>3.388779e-08</td>\n",
       "    </tr>\n",
       "    <tr>\n",
       "      <th>3</th>\n",
       "      <td>6</td>\n",
       "      <td>0.253950</td>\n",
       "      <td>-3.329484</td>\n",
       "      <td>0.470330</td>\n",
       "      <td>89.177551</td>\n",
       "      <td>3.609215e-21</td>\n",
       "      <td>1.239804e-20</td>\n",
       "    </tr>\n",
       "    <tr>\n",
       "      <th>4</th>\n",
       "      <td>10</td>\n",
       "      <td>0.015223</td>\n",
       "      <td>4.699783</td>\n",
       "      <td>1.789218</td>\n",
       "      <td>9.979771</td>\n",
       "      <td>1.582693e-03</td>\n",
       "      <td>1.975496e-03</td>\n",
       "    </tr>\n",
       "    <tr>\n",
       "      <th>...</th>\n",
       "      <td>...</td>\n",
       "      <td>...</td>\n",
       "      <td>...</td>\n",
       "      <td>...</td>\n",
       "      <td>...</td>\n",
       "      <td>...</td>\n",
       "      <td>...</td>\n",
       "    </tr>\n",
       "    <tr>\n",
       "      <th>2346</th>\n",
       "      <td>4993</td>\n",
       "      <td>2.666884</td>\n",
       "      <td>-4.063196</td>\n",
       "      <td>0.194795</td>\n",
       "      <td>774.204227</td>\n",
       "      <td>2.190995e-170</td>\n",
       "      <td>6.801968e-169</td>\n",
       "    </tr>\n",
       "    <tr>\n",
       "      <th>2347</th>\n",
       "      <td>4994</td>\n",
       "      <td>0.362137</td>\n",
       "      <td>-2.703292</td>\n",
       "      <td>0.361967</td>\n",
       "      <td>71.353284</td>\n",
       "      <td>2.986603e-17</td>\n",
       "      <td>8.534038e-17</td>\n",
       "    </tr>\n",
       "    <tr>\n",
       "      <th>2348</th>\n",
       "      <td>4995</td>\n",
       "      <td>0.038681</td>\n",
       "      <td>3.673674</td>\n",
       "      <td>0.801040</td>\n",
       "      <td>31.453368</td>\n",
       "      <td>2.042879e-08</td>\n",
       "      <td>3.597035e-08</td>\n",
       "    </tr>\n",
       "    <tr>\n",
       "      <th>2349</th>\n",
       "      <td>4996</td>\n",
       "      <td>0.018482</td>\n",
       "      <td>5.024842</td>\n",
       "      <td>1.582623</td>\n",
       "      <td>18.687107</td>\n",
       "      <td>1.540204e-05</td>\n",
       "      <td>2.252747e-05</td>\n",
       "    </tr>\n",
       "    <tr>\n",
       "      <th>2350</th>\n",
       "      <td>4998</td>\n",
       "      <td>0.023898</td>\n",
       "      <td>17.312897</td>\n",
       "      <td>56.849379</td>\n",
       "      <td>15.498337</td>\n",
       "      <td>8.257786e-05</td>\n",
       "      <td>1.133524e-04</td>\n",
       "    </tr>\n",
       "  </tbody>\n",
       "</table>\n",
       "<p>2351 rows × 7 columns</p>\n",
       "</div>"
      ],
      "text/plain": [
       "      gene  baseMean  log2FoldChange      lfcSE        stat         pvalue  \\\n",
       "0        1  0.018163        5.042741   1.539113   23.447824   1.283478e-06   \n",
       "1        3  0.051592       18.278707  56.835503   41.162409   1.400911e-10   \n",
       "2        4  0.035982        4.806984   1.130483   31.574152   1.919679e-08   \n",
       "3        6  0.253950       -3.329484   0.470330   89.177551   3.609215e-21   \n",
       "4       10  0.015223        4.699783   1.789218    9.979771   1.582693e-03   \n",
       "...    ...       ...             ...        ...         ...            ...   \n",
       "2346  4993  2.666884       -4.063196   0.194795  774.204227  2.190995e-170   \n",
       "2347  4994  0.362137       -2.703292   0.361967   71.353284   2.986603e-17   \n",
       "2348  4995  0.038681        3.673674   0.801040   31.453368   2.042879e-08   \n",
       "2349  4996  0.018482        5.024842   1.582623   18.687107   1.540204e-05   \n",
       "2350  4998  0.023898       17.312897  56.849379   15.498337   8.257786e-05   \n",
       "\n",
       "               padj  \n",
       "0      2.005860e-06  \n",
       "1      2.821639e-10  \n",
       "2      3.388779e-08  \n",
       "3      1.239804e-20  \n",
       "4      1.975496e-03  \n",
       "...             ...  \n",
       "2346  6.801968e-169  \n",
       "2347   8.534038e-17  \n",
       "2348   3.597035e-08  \n",
       "2349   2.252747e-05  \n",
       "2350   1.133524e-04  \n",
       "\n",
       "[2351 rows x 7 columns]"
      ]
     },
     "execution_count": 22,
     "metadata": {},
     "output_type": "execute_result"
    }
   ],
   "source": [
    "expressed_genes"
   ]
  },
  {
   "cell_type": "code",
   "execution_count": 23,
   "metadata": {},
   "outputs": [],
   "source": [
    "expressed_genes = genes[expressed_genes.gene]"
   ]
  },
  {
   "cell_type": "code",
   "execution_count": 24,
   "metadata": {},
   "outputs": [
    {
     "data": {
      "text/plain": [
       "array([b'HES4', b'TNFRSF18', b'TNFRSF4', ..., b'S100B', b'AC004556.1',\n",
       "       b'AC233755.1'], dtype='|S19')"
      ]
     },
     "execution_count": 24,
     "metadata": {},
     "output_type": "execute_result"
    }
   ],
   "source": [
    "expressed_genes"
   ]
  },
  {
   "cell_type": "code",
   "execution_count": null,
   "metadata": {},
   "outputs": [],
   "source": []
  }
 ],
 "metadata": {
  "kernelspec": {
   "display_name": "env_scRNA",
   "language": "python",
   "name": "python3"
  },
  "language_info": {
   "codemirror_mode": {
    "name": "ipython",
    "version": 3
   },
   "file_extension": ".py",
   "mimetype": "text/x-python",
   "name": "python",
   "nbconvert_exporter": "python",
   "pygments_lexer": "ipython3",
   "version": "3.10.9"
  },
  "orig_nbformat": 4
 },
 "nbformat": 4,
 "nbformat_minor": 2
}
