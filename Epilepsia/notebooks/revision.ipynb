{
 "cells": [
  {
   "cell_type": "code",
   "execution_count": 2,
   "metadata": {},
   "outputs": [],
   "source": [
    "import pandas as pd\n",
    "from tqdm import tqdm\n",
    "from scipy.sparse import csr_matrix"
   ]
  },
  {
   "cell_type": "code",
   "execution_count": 3,
   "metadata": {},
   "outputs": [],
   "source": [
    "parietal00 = pd.read_csv('../data/00-filt_counts/00-filtered_feature_bc_matrix010_parietal_filt_counts.csv').drop('Unnamed: 0', axis = 1)\n",
    "parietal01 = pd.read_csv('../data/01-filt_counts/01-filtered_feature_bc_matrix010_parietal_filt_counts.csv').drop('Unnamed: 0', axis = 1)\n",
    "\n",
    "frontal00 = pd.read_csv('../data/00-filt_counts/00-filtered_feature_bc_matrix010_frontal_filt_counts.csv').drop('Unnamed: 0', axis = 1)\n",
    "frontal01 = pd.read_csv('../data/01-filt_counts/01-filtered_feature_bc_matrix010_frontal_filt_counts.csv').drop('Unnamed: 0', axis = 1)"
   ]
  },
  {
   "cell_type": "code",
   "execution_count": 4,
   "metadata": {},
   "outputs": [
    {
     "name": "stdout",
     "output_type": "stream",
     "text": [
      "(36601, 4934)\n",
      "(36601, 4934)\n",
      "(36601, 5339)\n",
      "(36601, 5333)\n"
     ]
    }
   ],
   "source": [
    "print(parietal00.shape)\n",
    "print(parietal01.shape)\n",
    "\n",
    "print(frontal00.shape)\n",
    "print(frontal01.shape)"
   ]
  },
  {
   "cell_type": "code",
   "execution_count": 5,
   "metadata": {},
   "outputs": [
    {
     "name": "stdout",
     "output_type": "stream",
     "text": [
      "Porcentaje de 0s parietal00 0.10231465829537861\n",
      "Porcentaje de 0s parietal01 0.1023246090491701\n",
      "Porcentaje de 0s frontal00 0.08866028943998375\n",
      "Porcentaje de 0s frontal01 0.08863478819206207\n"
     ]
    }
   ],
   "source": [
    "parietal00 = csr_matrix(parietal00)\n",
    "parietal01 = csr_matrix(parietal01)\n",
    "\n",
    "frontal00 = csr_matrix(frontal00)\n",
    "frontal01 = csr_matrix(frontal01)\n",
    "\n",
    "print(f'Porcentaje de 0s parietal00 {len(parietal00.nonzero()[0])/(parietal00.shape[0]*parietal00.shape[1])}')\n",
    "print(f'Porcentaje de 0s parietal01 {len(parietal01.nonzero()[0])/(parietal01.shape[0]*parietal01.shape[1])}')\n",
    "\n",
    "print(f'Porcentaje de 0s frontal00 {len(frontal00.nonzero()[0])/(frontal00.shape[0]*frontal00.shape[1])}')\n",
    "print(f'Porcentaje de 0s frontal01 {len(frontal01.nonzero()[0])/(frontal01.shape[0]*frontal01.shape[1])}')"
   ]
  },
  {
   "cell_type": "code",
   "execution_count": 15,
   "metadata": {},
   "outputs": [
    {
     "name": "stdout",
     "output_type": "stream",
     "text": [
      "3795\n",
      "3795\n",
      "4488\n",
      "4488\n"
     ]
    }
   ],
   "source": [
    "print((parietal00.sum(axis=1) == 0).sum())\n",
    "print((parietal01.sum(axis=1) == 0).sum())\n",
    "\n",
    "print((frontal00.sum(axis=1) == 0).sum())\n",
    "print((frontal01.sum(axis=1) == 0).sum())"
   ]
  },
  {
   "cell_type": "code",
   "execution_count": 5,
   "metadata": {},
   "outputs": [],
   "source": [
    "# Parietal\n",
    "\n",
    "x_nz00, y_nz00 = parietal00.nonzero()\n",
    "x_nz01, y_nz01 = parietal01.nonzero()\n",
    "\n",
    "indices_nz00 = [(x_nz00[i], y_nz00[i]) for i in range(len(x_nz00))] \n",
    "indices_nz01 = [(x_nz01[i], y_nz01[i]) for i in range(len(x_nz01))]\n",
    "\n",
    "indices_nz = set(indices_nz01).union(set(indices_nz00))"
   ]
  },
  {
   "cell_type": "code",
   "execution_count": 6,
   "metadata": {},
   "outputs": [
    {
     "name": "stderr",
     "output_type": "stream",
     "text": [
      " 20%|██        | 5791270/28622522 [04:50<13:47, 27589.15it/s]"
     ]
    }
   ],
   "source": [
    "numero_no_ceros = len(indices_nz)\n",
    "numero_distintos = 0\n",
    "\n",
    "dif_0 = []\n",
    "dif_1 = []\n",
    "\n",
    "for (i,j) in tqdm(indices_nz):\n",
    "    p0, p1 = parietal00[i, j], parietal01[i, j]\n",
    "    if p0 != p1:\n",
    "        numero_distintos += 1\n",
    "        dif_0.append(p0)\n",
    "        dif_1.append(p1)"
   ]
  },
  {
   "cell_type": "code",
   "execution_count": null,
   "metadata": {},
   "outputs": [
    {
     "data": {
      "text/plain": [
       "(24279882, 28622522)"
      ]
     },
     "execution_count": 8,
     "metadata": {},
     "output_type": "execute_result"
    }
   ],
   "source": [
    "numero_distintos, numero_no_ceros"
   ]
  },
  {
   "cell_type": "code",
   "execution_count": null,
   "metadata": {},
   "outputs": [],
   "source": [
    "# Fontal\n",
    "\n",
    "x_nz00, y_nz00 = frontal00.nonzero()\n",
    "x_nz01, y_nz01 = frontal01.nonzero()\n",
    "\n",
    "indices_nz00 = [(x_nz00[i], y_nz00[i]) for i in range(len(x_nz00))] \n",
    "indices_nz01 = [(x_nz01[i], y_nz01[i]) for i in range(len(x_nz01))]\n",
    "\n",
    "indices_nz = set(indices_nz01).union(set(indices_nz00))"
   ]
  },
  {
   "cell_type": "code",
   "execution_count": null,
   "metadata": {},
   "outputs": [
    {
     "name": "stderr",
     "output_type": "stream",
     "text": [
      " 13%|█▎        | 3581098/28535920 [03:33<15:09, 27449.76it/s]"
     ]
    }
   ],
   "source": [
    "numero_no_ceros_frontal = len(indices_nz)\n",
    "numero_distintos_frontal = 0\n",
    "\n",
    "dif_0_frontal = []\n",
    "dif_1_frontal = []\n",
    "\n",
    "for (i,j) in tqdm(indices_nz):\n",
    "    if j < 5333:\n",
    "        p0, p1 = frontal00[i, j], frontal01[i, j]\n",
    "        if p0 != p1:\n",
    "            numero_distintos_frontal += 1\n",
    "            dif_0_frontal.append(p0)\n",
    "            dif_1_frontal.append(p1)"
   ]
  },
  {
   "cell_type": "code",
   "execution_count": null,
   "metadata": {},
   "outputs": [],
   "source": []
  }
 ],
 "metadata": {
  "kernelspec": {
   "display_name": "env_scRNA",
   "language": "python",
   "name": "python3"
  },
  "language_info": {
   "codemirror_mode": {
    "name": "ipython",
    "version": 3
   },
   "file_extension": ".py",
   "mimetype": "text/x-python",
   "name": "python",
   "nbconvert_exporter": "python",
   "pygments_lexer": "ipython3",
   "version": "3.10.9"
  },
  "orig_nbformat": 4
 },
 "nbformat": 4,
 "nbformat_minor": 2
}
